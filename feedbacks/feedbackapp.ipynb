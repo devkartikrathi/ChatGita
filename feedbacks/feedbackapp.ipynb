{
  "cells": [
    {
      "cell_type": "code",
      "execution_count": null,
      "metadata": {
        "id": "T_y1fCVSHBJu",
        "colab": {
          "base_uri": "https://localhost:8080/"
        },
        "outputId": "37412c1d-ebc6-45b1-e253-59587d9088a3"
      },
      "outputs": [
        {
          "output_type": "stream",
          "name": "stdout",
          "text": [
            "\u001b[2K     \u001b[90m━━━━━━━━━━━━━━━━━━━━━━━━━━━━━━━━━━━━━━━━\u001b[0m \u001b[32m8.6/8.6 MB\u001b[0m \u001b[31m9.9 MB/s\u001b[0m eta \u001b[36m0:00:00\u001b[0m\n",
            "\u001b[2K     \u001b[90m━━━━━━━━━━━━━━━━━━━━━━━━━━━━━━━━━━━━━━━━\u001b[0m \u001b[32m207.3/207.3 kB\u001b[0m \u001b[31m14.4 MB/s\u001b[0m eta \u001b[36m0:00:00\u001b[0m\n",
            "\u001b[2K     \u001b[90m━━━━━━━━━━━━━━━━━━━━━━━━━━━━━━━━━━━━━━━━\u001b[0m \u001b[32m6.9/6.9 MB\u001b[0m \u001b[31m8.5 MB/s\u001b[0m eta \u001b[36m0:00:00\u001b[0m\n",
            "\u001b[2K     \u001b[90m━━━━━━━━━━━━━━━━━━━━━━━━━━━━━━━━━━━━━━━━\u001b[0m \u001b[32m83.0/83.0 kB\u001b[0m \u001b[31m2.9 MB/s\u001b[0m eta \u001b[36m0:00:00\u001b[0m\n",
            "\u001b[2K     \u001b[90m━━━━━━━━━━━━━━━━━━━━━━━━━━━━━━━━━━━━━━━━\u001b[0m \u001b[32m62.7/62.7 kB\u001b[0m \u001b[31m6.3 MB/s\u001b[0m eta \u001b[36m0:00:00\u001b[0m\n",
            "\u001b[?25h"
          ]
        }
      ],
      "source": [
        "!pip install -q streamlit"
      ]
    },
    {
      "cell_type": "code",
      "execution_count": null,
      "metadata": {
        "colab": {
          "base_uri": "https://localhost:8080/"
        },
        "id": "WkgYXiqLHFIq",
        "outputId": "f0894a1e-41a9-447b-d814-3cbb9edfd49a"
      },
      "outputs": [
        {
          "output_type": "stream",
          "name": "stdout",
          "text": [
            "Writing app.py\n"
          ]
        }
      ],
      "source": [
        "%%writefile app.py\n",
        "\n",
        "import streamlit as st\n",
        "import json\n",
        "\n",
        "# Load the JSON data\n",
        "with open('responses.json', 'r') as f:\n",
        "    data = json.load(f)\n",
        "\n",
        "# Initialize a session state to keep track of results\n",
        "if 'results' not in st.session_state:\n",
        "    st.session_state['results'] = []\n",
        "\n",
        "st.title(\"Question-Answer Feedback\")\n",
        "\n",
        "# Iterate through each question in the dataset\n",
        "for item in data:\n",
        "    question = item['question']\n",
        "    responses = item['responses']\n",
        "\n",
        "    st.write(f\"### Question: {question}\")\n",
        "    option_1 = responses[0]['text']\n",
        "    option_2 = responses[1]['text']\n",
        "\n",
        "    selected_option = st.radio(\"Choose the best response:\", (option_1, option_2), key=question)\n",
        "\n",
        "    if st.button(\"Submit\", key=f\"submit_{question}\"):\n",
        "        if selected_option == option_1:\n",
        "            accepted = option_1\n",
        "            rejected = option_2\n",
        "        else:\n",
        "            accepted = option_2\n",
        "            rejected = option_1\n",
        "\n",
        "        st.session_state['results'].append({\n",
        "            \"question\": question,\n",
        "            \"accepted\": accepted,\n",
        "            \"rejected\": rejected\n",
        "        })\n",
        "        st.write(\"Response recorded.\")\n",
        "\n",
        "# Save the results to a new JSON file\n",
        "if st.button(\"Save Results\"):\n",
        "    with open('accepted_responses.json', 'w') as f:\n",
        "        json.dump(st.session_state['results'], f, indent=4)\n",
        "    st.write(\"Results saved to 'accepted_responses.json'\")\n",
        "\n"
      ]
    },
    {
      "cell_type": "code",
      "execution_count": null,
      "metadata": {
        "colab": {
          "base_uri": "https://localhost:8080/"
        },
        "id": "4qIJQgQAHIRZ",
        "outputId": "80e4422d-b380-4d46-d4db-578798a6fd8a"
      },
      "outputs": [
        {
          "output_type": "stream",
          "name": "stdout",
          "text": [
            "\u001b[K\u001b[?25h\u001b[37;40mnpm\u001b[0m \u001b[0m\u001b[30;43mWARN\u001b[0m \u001b[0m\u001b[35mdeprecated\u001b[0m debug@4.1.1: Debug versions >=3.2.0 <3.2.7 || >=4 <4.3.1 have a low-severity ReDos regression when used in a Node.js environment. It is recommended you upgrade to 3.2.7 or 4.3.1. (https://github.com/visionmedia/debug/issues/797)\n",
            "\u001b[K\u001b[?25h\u001b[37;40mnpm\u001b[0m \u001b[0m\u001b[30;43mWARN\u001b[0m \u001b[0m\u001b[35mdeprecated\u001b[0m axios@0.19.0: Critical security vulnerability fixed in v0.21.1. For more information, see https://github.com/axios/axios/pull/3410\n",
            "\u001b[K\u001b[?25h\n",
            "added 38 packages, removed 69 packages, changed 5 packages, and audited 60 packages in 2s\n",
            "\n",
            "5 packages are looking for funding\n",
            "  run `npm fund` for details\n",
            "\n",
            "\u001b[31m\u001b[1m6\u001b[22m\u001b[39m vulnerabilities (1 \u001b[1mlow\u001b[22m, 3 \u001b[33m\u001b[1mmoderate\u001b[22m\u001b[39m, 2 \u001b[31m\u001b[1mhigh\u001b[22m\u001b[39m)\n",
            "\n",
            "To address all issues, run:\n",
            "  npm audit fix\n",
            "\n",
            "Run `npm audit` for details.\n"
          ]
        }
      ],
      "source": [
        "!npm install localtunnel"
      ]
    },
    {
      "cell_type": "code",
      "execution_count": null,
      "metadata": {
        "id": "TOIPAMXzHLXU"
      },
      "outputs": [],
      "source": [
        "!streamlit run app.py &>/content/logs.txt &"
      ]
    },
    {
      "cell_type": "code",
      "execution_count": null,
      "metadata": {
        "colab": {
          "base_uri": "https://localhost:8080/"
        },
        "id": "_JfljitpHOCw",
        "outputId": "1044c30f-2ad6-4b17-ae38-d0c8d1a3ca30"
      },
      "outputs": [
        {
          "output_type": "stream",
          "name": "stdout",
          "text": [
            "34.105.35.54\n",
            "your url is: https://new-buckets-notice.loca.lt\n"
          ]
        }
      ],
      "source": [
        "!npx localtunnel --port 8501 & curl ipv4.icanhazip.com"
      ]
    },
    {
      "cell_type": "code",
      "execution_count": null,
      "metadata": {
        "id": "00_c42udHREP"
      },
      "outputs": [],
      "source": []
    }
  ],
  "metadata": {
    "colab": {
      "provenance": []
    },
    "kernelspec": {
      "display_name": "Python 3",
      "name": "python3"
    },
    "language_info": {
      "name": "python"
    }
  },
  "nbformat": 4,
  "nbformat_minor": 0
}